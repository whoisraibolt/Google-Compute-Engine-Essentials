{
 "cells": [
  {
   "cell_type": "markdown",
   "metadata": {
    "slideshow": {
     "slide_type": "slide"
    }
   },
   "source": [
    "# Google Compute Engine Essentials"
   ]
  },
  {
   "cell_type": "markdown",
   "metadata": {
    "slideshow": {
     "slide_type": "slide"
    }
   },
   "source": [
    "## Sumário:\n",
    "\n",
    "- Contextualização;\n",
    "\n",
    "- Google Cloud Platform;\n",
    "\n",
    "- Google Compute Engine."
   ]
  },
  {
   "cell_type": "markdown",
   "metadata": {
    "slideshow": {
     "slide_type": "slide"
    }
   },
   "source": [
    "## Contextualização\n",
    "\n",
    "- Século XXI;\n",
    "\n",
    "- Potencialização da Revolução Digital;\n",
    "\n",
    "- ESTAMOS NA ERA DOS DADOS!\n",
    "\n"
   ]
  },
  {
   "cell_type": "markdown",
   "metadata": {
    "slideshow": {
     "slide_type": "slide"
    }
   },
   "source": [
    "## Contextualização\n",
    "\n",
    "- A questão não é ter somente dados;\n",
    "\n",
    "- É preciso saber trabalhar com esses dados, a fim de extrair informações relevantes;\n",
    "\n",
    "- Como?"
   ]
  },
  {
   "cell_type": "markdown",
   "metadata": {
    "slideshow": {
     "slide_type": "subslide"
    }
   },
   "source": [
    "## Contextualização"
   ]
  },
  {
   "cell_type": "code",
   "execution_count": 1,
   "metadata": {
    "slideshow": {
     "slide_type": "fragment"
    }
   },
   "outputs": [
    {
     "name": "stdout",
     "output_type": "stream",
     "text": [
      "Artificial Intelligence\n"
     ]
    }
   ],
   "source": [
    "print(\"Artificial Intelligence\")"
   ]
  },
  {
   "cell_type": "code",
   "execution_count": 2,
   "metadata": {
    "slideshow": {
     "slide_type": "fragment"
    }
   },
   "outputs": [
    {
     "name": "stdout",
     "output_type": "stream",
     "text": [
      "Machine Learning\n"
     ]
    }
   ],
   "source": [
    "print(\"Machine Learning\")"
   ]
  },
  {
   "cell_type": "code",
   "execution_count": 3,
   "metadata": {
    "slideshow": {
     "slide_type": "fragment"
    }
   },
   "outputs": [
    {
     "name": "stdout",
     "output_type": "stream",
     "text": [
      "Deep Learning\n"
     ]
    }
   ],
   "source": [
    "print(\"Deep Learning\")"
   ]
  },
  {
   "cell_type": "markdown",
   "metadata": {
    "slideshow": {
     "slide_type": "subslide"
    }
   },
   "source": [
    "## Contextualização"
   ]
  },
  {
   "cell_type": "code",
   "execution_count": 4,
   "metadata": {
    "slideshow": {
     "slide_type": "fragment"
    }
   },
   "outputs": [
    {
     "name": "stdout",
     "output_type": "stream",
     "text": [
      "Business Intelligence\n"
     ]
    }
   ],
   "source": [
    "print(\"Business Intelligence\")"
   ]
  },
  {
   "cell_type": "code",
   "execution_count": 5,
   "metadata": {
    "slideshow": {
     "slide_type": "fragment"
    }
   },
   "outputs": [
    {
     "name": "stdout",
     "output_type": "stream",
     "text": [
      "Data Mining\n"
     ]
    }
   ],
   "source": [
    "print(\"Data Mining\")"
   ]
  },
  {
   "cell_type": "code",
   "execution_count": 6,
   "metadata": {
    "slideshow": {
     "slide_type": "fragment"
    }
   },
   "outputs": [
    {
     "name": "stdout",
     "output_type": "stream",
     "text": [
      "Big Data\n"
     ]
    }
   ],
   "source": [
    "print(\"Big Data\")"
   ]
  },
  {
   "cell_type": "markdown",
   "metadata": {
    "slideshow": {
     "slide_type": "slide"
    }
   },
   "source": [
    "## Contextualização\n",
    "\n",
    "- E quem é o vilão nessa história toda?"
   ]
  },
  {
   "cell_type": "markdown",
   "metadata": {
    "slideshow": {
     "slide_type": "fragment"
    }
   },
   "source": [
    "- A computação de alto desempenho!"
   ]
  },
  {
   "cell_type": "markdown",
   "metadata": {
    "slideshow": {
     "slide_type": "fragment"
    }
   },
   "source": [
    "- Por que?"
   ]
  },
  {
   "cell_type": "markdown",
   "metadata": {
    "slideshow": {
     "slide_type": "fragment"
    }
   },
   "source": [
    "- Recursos extremamente caro, o que consequentemente torna o seu acesso limitado."
   ]
  },
  {
   "cell_type": "markdown",
   "metadata": {
    "slideshow": {
     "slide_type": "slide"
    }
   },
   "source": [
    "## Contextualização\n",
    "\n",
    "- Como driblar essa problema para os meus projetos e aplicações?"
   ]
  },
  {
   "cell_type": "markdown",
   "metadata": {
    "slideshow": {
     "slide_type": "fragment"
    }
   },
   "source": [
    "- Através de provedores de computação em nuvem!"
   ]
  },
  {
   "cell_type": "markdown",
   "metadata": {
    "slideshow": {
     "slide_type": "slide"
    }
   },
   "source": [
    "## Google Cloud Platform\n",
    "\n",
    "- Conjunto de ferramentas, soluções e serviços de computação em nuvem;\n",
    "\n",
    "- Disponibiliza uma série de soluções para processamento computacional."
   ]
  },
  {
   "cell_type": "markdown",
   "metadata": {
    "slideshow": {
     "slide_type": "slide"
    }
   },
   "source": [
    "## Google Cloud Platform\n",
    "\n",
    "- Como por exemplo: rede, armazenamento de dados, banco de dados escaláveis, Internet das Coisas, ML, ferramentas de gerenciamento, monitoramento, diagnósticos, entre outros.\n",
    "\n",
    "- Coca-Cola, Snapchat, Spotify, Ocado, Philips e Wix.com são apenas alguns dos clientes que utilizam os produtos oferecidos pelo GCP."
   ]
  },
  {
   "cell_type": "markdown",
   "metadata": {
    "slideshow": {
     "slide_type": "slide"
    }
   },
   "source": [
    "## Google Compute Engine\n",
    "\n",
    "- Máquinas virtuais escalonáveis de alto desempenho;\n",
    "\n",
    "- Componente Infraestrutura como Serviço (IaaS);\n",
    "\n",
    "- Permite que os usuários iniciem máquinas virtuais sob demanda;\n",
    "\n",
    "- Oferecem uma variedade de configurações, incluindo tamanhos pré-definidos com opções de quantidades específicas de CPU, GPU, RAM, entre outros."
   ]
  },
  {
   "cell_type": "markdown",
   "metadata": {
    "slideshow": {
     "slide_type": "slide"
    }
   },
   "source": [
    "## Dicas\n",
    "\n",
    "- Google Cloud Platform:\n",
    "\n",
    "- https://cloud.google.com\n",
    "\n",
    "- Certificações Google Cloud:\n",
    "\n",
    "- https://cloud.google.com/certification"
   ]
  },
  {
   "cell_type": "markdown",
   "metadata": {
    "slideshow": {
     "slide_type": "slide"
    }
   },
   "source": [
    "## Dicas\n",
    "\n",
    "- Crédito de US$ 300 para começar a usar qualquer produto do Google Cloud Platform:\n",
    "\n",
    "- https://cloud.google.com/free"
   ]
  },
  {
   "cell_type": "markdown",
   "metadata": {
    "slideshow": {
     "slide_type": "slide"
    }
   },
   "source": [
    "## Dicas\n",
    "\n",
    "- How to set up TensorFlow with CUDA and cuDNN on a free Google Cloud instance:\n",
    "\n",
    "- https://www.youtube.com/watch?v=abEf3wQJBmE\n",
    "\n",
    "Instância de máquina virtual composta por uma GPU NVIDIA® Tesla® K80 com memória da GPU de 12GB GDDR5 e 8 vCPUs disponíveis, além de 16 GB de memória RAM e 50GB de HD e é acessada por meio da interface de linha de comandos."
   ]
  },
  {
   "cell_type": "markdown",
   "metadata": {
    "slideshow": {
     "slide_type": "slide"
    }
   },
   "source": [
    "<center><img src=\"https://raw.githubusercontent.com/whoisraibolt/Convolutional-Neural-Network-MNIST/master/images/Alexandra-Raibolt-Avatar.png\"></center>\n",
    "\n",
    "<div style=\"text-align:center\"><b>ALEXANDRA RAIBOLT</b></div>\n",
    "\n",
    "<div style=\"text-align:center\">MSc Student @ IME and BI & Data Management @ Firjan</div>\n",
    "<br>\n",
    "<div style=\"text-align:center\"> \n",
    "<a href=\"https://github.com/whoisraibolt\">GitHub</a> | \n",
    "<a href=\"https://www.linkedin.com/in/whoisraibolt\">LinkedIn</a>\n",
    "<a href=\"http://buscatextual.cnpq.br/buscatextual/visualizacv.do?id=K8693241P4\">Lattes</a> | \n",
    "<a href=\"mailto:alexandra.raibolt@gmail.com\">E-mail</a> | \n",
    "<a href=\"https://whoisraibolt.com.br/\">Site</a>\n",
    "</div>"
   ]
  }
 ],
 "metadata": {
  "celltoolbar": "Slideshow",
  "kernelspec": {
   "display_name": "Python 3",
   "language": "python",
   "name": "python3"
  },
  "language_info": {
   "codemirror_mode": {
    "name": "ipython",
    "version": 3
   },
   "file_extension": ".py",
   "mimetype": "text/x-python",
   "name": "python",
   "nbconvert_exporter": "python",
   "pygments_lexer": "ipython3",
   "version": "3.5.2"
  }
 },
 "nbformat": 4,
 "nbformat_minor": 2
}
